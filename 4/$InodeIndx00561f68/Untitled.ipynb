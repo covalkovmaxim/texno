{
 "cells": [
  {
   "cell_type": "code",
   "execution_count": 1,
   "metadata": {},
   "outputs": [
    {
     "data": {
      "text/plain": [
       "0     5\n",
       "1     6\n",
       "2     7\n",
       "3     8\n",
       "4     9\n",
       "5    10\n",
       "dtype: int64"
      ]
     },
     "execution_count": 1,
     "metadata": {},
     "output_type": "execute_result"
    }
   ],
   "source": [
    "import pandas as pd\n",
    "import numpy as np\n"
   ]
  },
  {
   "cell_type": "code",
   "execution_count": 5,
   "metadata": {},
   "outputs": [
    {
     "data": {
      "text/html": [
       "<div>\n",
       "<style scoped>\n",
       "    .dataframe tbody tr th:only-of-type {\n",
       "        vertical-align: middle;\n",
       "    }\n",
       "\n",
       "    .dataframe tbody tr th {\n",
       "        vertical-align: top;\n",
       "    }\n",
       "\n",
       "    .dataframe thead th {\n",
       "        text-align: right;\n",
       "    }\n",
       "</style>\n",
       "<table border=\"1\" class=\"dataframe\">\n",
       "  <thead>\n",
       "    <tr style=\"text-align: right;\">\n",
       "      <th></th>\n",
       "      <th>vendor_id</th>\n",
       "      <th>chain_id</th>\n",
       "      <th>city_name</th>\n",
       "      <th>specialisation</th>\n",
       "      <th>successful_orders</th>\n",
       "      <th>fail_orders</th>\n",
       "      <th>reorders</th>\n",
       "    </tr>\n",
       "  </thead>\n",
       "  <tbody>\n",
       "    <tr>\n",
       "      <td>0</td>\n",
       "      <td>28957</td>\n",
       "      <td>20633</td>\n",
       "      <td>Архангельск</td>\n",
       "      <td>Супы</td>\n",
       "      <td>0.0</td>\n",
       "      <td>2.0</td>\n",
       "      <td>0.0</td>\n",
       "    </tr>\n",
       "    <tr>\n",
       "      <td>1</td>\n",
       "      <td>37381</td>\n",
       "      <td>27399</td>\n",
       "      <td>Архангельск</td>\n",
       "      <td>Пироги</td>\n",
       "      <td>0.0</td>\n",
       "      <td>0.0</td>\n",
       "      <td>0.0</td>\n",
       "    </tr>\n",
       "    <tr>\n",
       "      <td>2</td>\n",
       "      <td>28703</td>\n",
       "      <td>20431</td>\n",
       "      <td>Архангельск</td>\n",
       "      <td>Суши</td>\n",
       "      <td>111.0</td>\n",
       "      <td>3.0</td>\n",
       "      <td>0.0</td>\n",
       "    </tr>\n",
       "    <tr>\n",
       "      <td>3</td>\n",
       "      <td>37382</td>\n",
       "      <td>27399</td>\n",
       "      <td>Архангельск</td>\n",
       "      <td>Пироги</td>\n",
       "      <td>1.0</td>\n",
       "      <td>0.0</td>\n",
       "      <td>0.0</td>\n",
       "    </tr>\n",
       "    <tr>\n",
       "      <td>4</td>\n",
       "      <td>36877</td>\n",
       "      <td>27151</td>\n",
       "      <td>Архангельск</td>\n",
       "      <td>Бургеры</td>\n",
       "      <td>22.0</td>\n",
       "      <td>2.0</td>\n",
       "      <td>0.0</td>\n",
       "    </tr>\n",
       "    <tr>\n",
       "      <td>...</td>\n",
       "      <td>...</td>\n",
       "      <td>...</td>\n",
       "      <td>...</td>\n",
       "      <td>...</td>\n",
       "      <td>...</td>\n",
       "      <td>...</td>\n",
       "      <td>...</td>\n",
       "    </tr>\n",
       "    <tr>\n",
       "      <td>779</td>\n",
       "      <td>35869</td>\n",
       "      <td>26467</td>\n",
       "      <td>Ярославль</td>\n",
       "      <td>Суши</td>\n",
       "      <td>105.0</td>\n",
       "      <td>3.0</td>\n",
       "      <td>1.0</td>\n",
       "    </tr>\n",
       "    <tr>\n",
       "      <td>780</td>\n",
       "      <td>24614</td>\n",
       "      <td>17145</td>\n",
       "      <td>Ярославль</td>\n",
       "      <td>Суши</td>\n",
       "      <td>116.0</td>\n",
       "      <td>8.0</td>\n",
       "      <td>2.0</td>\n",
       "    </tr>\n",
       "    <tr>\n",
       "      <td>781</td>\n",
       "      <td>28675</td>\n",
       "      <td>20418</td>\n",
       "      <td>Ярославль</td>\n",
       "      <td>Пицца</td>\n",
       "      <td>86.0</td>\n",
       "      <td>6.0</td>\n",
       "      <td>2.0</td>\n",
       "    </tr>\n",
       "    <tr>\n",
       "      <td>782</td>\n",
       "      <td>24949</td>\n",
       "      <td>17440</td>\n",
       "      <td>Ярославль</td>\n",
       "      <td>Японская</td>\n",
       "      <td>459.0</td>\n",
       "      <td>8.0</td>\n",
       "      <td>0.0</td>\n",
       "    </tr>\n",
       "    <tr>\n",
       "      <td>783</td>\n",
       "      <td>28676</td>\n",
       "      <td>20418</td>\n",
       "      <td>Ярославль</td>\n",
       "      <td>Пицца</td>\n",
       "      <td>109.0</td>\n",
       "      <td>10.0</td>\n",
       "      <td>2.0</td>\n",
       "    </tr>\n",
       "  </tbody>\n",
       "</table>\n",
       "<p>784 rows × 7 columns</p>\n",
       "</div>"
      ],
      "text/plain": [
       "     vendor_id  chain_id    city_name specialisation  successful_orders  \\\n",
       "0        28957     20633  Архангельск           Супы                0.0   \n",
       "1        37381     27399  Архангельск         Пироги                0.0   \n",
       "2        28703     20431  Архангельск           Суши              111.0   \n",
       "3        37382     27399  Архангельск         Пироги                1.0   \n",
       "4        36877     27151  Архангельск        Бургеры               22.0   \n",
       "..         ...       ...          ...            ...                ...   \n",
       "779      35869     26467    Ярославль           Суши              105.0   \n",
       "780      24614     17145    Ярославль           Суши              116.0   \n",
       "781      28675     20418    Ярославль          Пицца               86.0   \n",
       "782      24949     17440    Ярославль       Японская              459.0   \n",
       "783      28676     20418    Ярославль          Пицца              109.0   \n",
       "\n",
       "     fail_orders  reorders  \n",
       "0            2.0       0.0  \n",
       "1            0.0       0.0  \n",
       "2            3.0       0.0  \n",
       "3            0.0       0.0  \n",
       "4            2.0       0.0  \n",
       "..           ...       ...  \n",
       "779          3.0       1.0  \n",
       "780          8.0       2.0  \n",
       "781          6.0       2.0  \n",
       "782          8.0       0.0  \n",
       "783         10.0       2.0  \n",
       "\n",
       "[784 rows x 7 columns]"
      ]
     },
     "execution_count": 5,
     "metadata": {},
     "output_type": "execute_result"
    }
   ],
   "source": [
    "df=pd.read_csv('restaurants.csv', sep = ',')\n",
    "df"
   ]
  },
  {
   "cell_type": "code",
   "execution_count": 6,
   "metadata": {},
   "outputs": [
    {
     "name": "stdout",
     "output_type": "stream",
     "text": [
      "<class 'pandas.core.frame.DataFrame'>\n",
      "RangeIndex: 784 entries, 0 to 783\n",
      "Data columns (total 7 columns):\n",
      "vendor_id            784 non-null int64\n",
      "chain_id             784 non-null int64\n",
      "city_name            784 non-null object\n",
      "specialisation       784 non-null object\n",
      "successful_orders    784 non-null float64\n",
      "fail_orders          784 non-null float64\n",
      "reorders             784 non-null float64\n",
      "dtypes: float64(3), int64(2), object(2)\n",
      "memory usage: 43.0+ KB\n"
     ]
    }
   ],
   "source": [
    "df.info()"
   ]
  },
  {
   "cell_type": "code",
   "execution_count": 8,
   "metadata": {},
   "outputs": [
    {
     "data": {
      "text/plain": [
       "(784, 7)"
      ]
     },
     "execution_count": 8,
     "metadata": {},
     "output_type": "execute_result"
    }
   ],
   "source": [
    "df.shape"
   ]
  },
  {
   "cell_type": "code",
   "execution_count": 12,
   "metadata": {},
   "outputs": [
    {
     "data": {
      "text/plain": [
       "(30, 7)"
      ]
     },
     "execution_count": 12,
     "metadata": {},
     "output_type": "execute_result"
    }
   ],
   "source": [
    "df[df['specialisation']=='Рыба'].shape"
   ]
  },
  {
   "cell_type": "code",
   "execution_count": 15,
   "metadata": {},
   "outputs": [
    {
     "data": {
      "text/plain": [
       "(63, 7)"
      ]
     },
     "execution_count": 15,
     "metadata": {},
     "output_type": "execute_result"
    }
   ],
   "source": [
    "df.groupby('city_name').nunique().shape"
   ]
  },
  {
   "cell_type": "code",
   "execution_count": 16,
   "metadata": {},
   "outputs": [
    {
     "data": {
      "text/plain": [
       "115.34438775510205"
      ]
     },
     "execution_count": 16,
     "metadata": {},
     "output_type": "execute_result"
    }
   ],
   "source": [
    "df['successful_orders'].mean()"
   ]
  },
  {
   "cell_type": "code",
   "execution_count": 26,
   "metadata": {},
   "outputs": [
    {
     "data": {
      "text/plain": [
       "Пермь             14\n",
       "Ставрополь        14\n",
       "Сочи              14\n",
       "Волжский          14\n",
       "Курск             14\n",
       "                  ..\n",
       "Вологда            3\n",
       "Йошкар-Ола         3\n",
       "Егорьевск          3\n",
       "Стерлитамак        3\n",
       "Ханты-Мансийск     2\n",
       "Name: city_name, Length: 63, dtype: int64"
      ]
     },
     "execution_count": 26,
     "metadata": {},
     "output_type": "execute_result"
    }
   ],
   "source": [
    "df['city_name'].value_counts()"
   ]
  },
  {
   "cell_type": "code",
   "execution_count": 31,
   "metadata": {},
   "outputs": [
    {
     "data": {
      "text/plain": [
       "(10, 7)"
      ]
     },
     "execution_count": 31,
     "metadata": {},
     "output_type": "execute_result"
    }
   ],
   "source": [
    "df[df['fail_orders']>20].shape\n"
   ]
  },
  {
   "cell_type": "code",
   "execution_count": 33,
   "metadata": {},
   "outputs": [
    {
     "data": {
      "text/plain": [
       "(5, 7)"
      ]
     },
     "execution_count": 33,
     "metadata": {},
     "output_type": "execute_result"
    }
   ],
   "source": [
    "df[(df['fail_orders']>20) & (df['successful_orders']<500)].shape"
   ]
  },
  {
   "cell_type": "code",
   "execution_count": 36,
   "metadata": {},
   "outputs": [
    {
     "data": {
      "text/plain": [
       "12.8"
      ]
     },
     "execution_count": 36,
     "metadata": {},
     "output_type": "execute_result"
    }
   ],
   "source": [
    "df[df['specialisation']=='Выпечка']['successful_orders'].mean()"
   ]
  },
  {
   "cell_type": "code",
   "execution_count": 37,
   "metadata": {},
   "outputs": [
    {
     "data": {
      "text/plain": [
       "506.0"
      ]
     },
     "execution_count": 37,
     "metadata": {},
     "output_type": "execute_result"
    }
   ],
   "source": [
    "df[df['specialisation']=='Бургеры']['successful_orders'].max()"
   ]
  },
  {
   "cell_type": "code",
   "execution_count": 51,
   "metadata": {},
   "outputs": [
    {
     "data": {
      "text/plain": [
       "specialisation\n",
       "Фастфуд                0.000000\n",
       "Итальянская            0.007407\n",
       "Русская                0.008065\n",
       "Рыба                   0.009884\n",
       "Японская               0.011422\n",
       "Гирос                  0.012968\n",
       "Шаурма                 0.015464\n",
       "Китайская              0.019565\n",
       "Супы                   0.019828\n",
       "Сэндвичи               0.020325\n",
       "Шашлыки                0.020389\n",
       "Пицца                  0.021832\n",
       "Суши                   0.022030\n",
       "Мясо                   0.022161\n",
       "Паста и ризотто        0.024242\n",
       "Грузинская             0.025381\n",
       "Пироги                 0.026052\n",
       "Узбекская              0.028571\n",
       "Бургеры                0.028783\n",
       "Мексиканская           0.029412\n",
       "Паназиатская           0.046512\n",
       "Выпечка                0.057971\n",
       "Индийская              0.093023\n",
       "Корейская              0.100000\n",
       "Десерты                0.120000\n",
       "Хот-доги               0.187500\n",
       "Вегетарианское меню    0.304348\n",
       "dtype: float64"
      ]
     },
     "execution_count": 51,
     "metadata": {},
     "output_type": "execute_result"
    }
   ],
   "source": [
    "new_df=df.groupby('specialisation')['fail_orders'].sum()/(df.groupby('specialisation')['fail_orders'].sum()+df.groupby('specialisation')['successful_orders'].sum()+df.groupby('specialisation')['reorders'].sum())\n",
    "new_df\n",
    "new_df.sort_values()"
   ]
  },
  {
   "cell_type": "code",
   "execution_count": 39,
   "metadata": {},
   "outputs": [
    {
     "data": {
      "text/plain": [
       "328.0"
      ]
     },
     "execution_count": 39,
     "metadata": {},
     "output_type": "execute_result"
    }
   ],
   "source": [
    "df[(df['specialisation']=='Суши') & (df['city_name']=='Белгород')]['successful_orders'].mean()"
   ]
  },
  {
   "cell_type": "code",
   "execution_count": 42,
   "metadata": {},
   "outputs": [
    {
     "data": {
      "text/html": [
       "<div>\n",
       "<style scoped>\n",
       "    .dataframe tbody tr th:only-of-type {\n",
       "        vertical-align: middle;\n",
       "    }\n",
       "\n",
       "    .dataframe tbody tr th {\n",
       "        vertical-align: top;\n",
       "    }\n",
       "\n",
       "    .dataframe thead th {\n",
       "        text-align: right;\n",
       "    }\n",
       "</style>\n",
       "<table border=\"1\" class=\"dataframe\">\n",
       "  <thead>\n",
       "    <tr style=\"text-align: right;\">\n",
       "      <th></th>\n",
       "      <th>id</th>\n",
       "      <th>model_score</th>\n",
       "    </tr>\n",
       "  </thead>\n",
       "  <tbody>\n",
       "    <tr>\n",
       "      <td>0</td>\n",
       "      <td>1</td>\n",
       "      <td>0.622864</td>\n",
       "    </tr>\n",
       "    <tr>\n",
       "      <td>1</td>\n",
       "      <td>2</td>\n",
       "      <td>0.331360</td>\n",
       "    </tr>\n",
       "    <tr>\n",
       "      <td>2</td>\n",
       "      <td>3</td>\n",
       "      <td>0.450092</td>\n",
       "    </tr>\n",
       "    <tr>\n",
       "      <td>3</td>\n",
       "      <td>4</td>\n",
       "      <td>0.240392</td>\n",
       "    </tr>\n",
       "    <tr>\n",
       "      <td>4</td>\n",
       "      <td>5</td>\n",
       "      <td>0.297691</td>\n",
       "    </tr>\n",
       "    <tr>\n",
       "      <td>...</td>\n",
       "      <td>...</td>\n",
       "      <td>...</td>\n",
       "    </tr>\n",
       "    <tr>\n",
       "      <td>37717</td>\n",
       "      <td>37951</td>\n",
       "      <td>0.754494</td>\n",
       "    </tr>\n",
       "    <tr>\n",
       "      <td>37718</td>\n",
       "      <td>37952</td>\n",
       "      <td>0.662785</td>\n",
       "    </tr>\n",
       "    <tr>\n",
       "      <td>37719</td>\n",
       "      <td>37953</td>\n",
       "      <td>0.509935</td>\n",
       "    </tr>\n",
       "    <tr>\n",
       "      <td>37720</td>\n",
       "      <td>37954</td>\n",
       "      <td>0.417669</td>\n",
       "    </tr>\n",
       "    <tr>\n",
       "      <td>37721</td>\n",
       "      <td>37955</td>\n",
       "      <td>0.031183</td>\n",
       "    </tr>\n",
       "  </tbody>\n",
       "</table>\n",
       "<p>37722 rows × 2 columns</p>\n",
       "</div>"
      ],
      "text/plain": [
       "          id  model_score\n",
       "0          1     0.622864\n",
       "1          2     0.331360\n",
       "2          3     0.450092\n",
       "3          4     0.240392\n",
       "4          5     0.297691\n",
       "...      ...          ...\n",
       "37717  37951     0.754494\n",
       "37718  37952     0.662785\n",
       "37719  37953     0.509935\n",
       "37720  37954     0.417669\n",
       "37721  37955     0.031183\n",
       "\n",
       "[37722 rows x 2 columns]"
      ]
     },
     "execution_count": 42,
     "metadata": {},
     "output_type": "execute_result"
    }
   ],
   "source": [
    "df1=pd.read_csv('restaurant_scores.csv', sep = ',')\n",
    "df1"
   ]
  },
  {
   "cell_type": "code",
   "execution_count": null,
   "metadata": {},
   "outputs": [],
   "source": []
  },
  {
   "cell_type": "code",
   "execution_count": 54,
   "metadata": {},
   "outputs": [
    {
     "data": {
      "text/html": [
       "<div>\n",
       "<style scoped>\n",
       "    .dataframe tbody tr th:only-of-type {\n",
       "        vertical-align: middle;\n",
       "    }\n",
       "\n",
       "    .dataframe tbody tr th {\n",
       "        vertical-align: top;\n",
       "    }\n",
       "\n",
       "    .dataframe thead th {\n",
       "        text-align: right;\n",
       "    }\n",
       "</style>\n",
       "<table border=\"1\" class=\"dataframe\">\n",
       "  <thead>\n",
       "    <tr style=\"text-align: right;\">\n",
       "      <th></th>\n",
       "      <th>vendor_id</th>\n",
       "      <th>chain_id</th>\n",
       "      <th>city_name</th>\n",
       "      <th>specialisation</th>\n",
       "      <th>successful_orders</th>\n",
       "      <th>fail_orders</th>\n",
       "      <th>reorders</th>\n",
       "      <th>id</th>\n",
       "      <th>model_score</th>\n",
       "    </tr>\n",
       "  </thead>\n",
       "  <tbody>\n",
       "    <tr>\n",
       "      <td>0</td>\n",
       "      <td>28957</td>\n",
       "      <td>20633</td>\n",
       "      <td>Архангельск</td>\n",
       "      <td>Супы</td>\n",
       "      <td>0.0</td>\n",
       "      <td>2.0</td>\n",
       "      <td>0.0</td>\n",
       "      <td>20633</td>\n",
       "      <td>0.458147</td>\n",
       "    </tr>\n",
       "    <tr>\n",
       "      <td>1</td>\n",
       "      <td>37381</td>\n",
       "      <td>27399</td>\n",
       "      <td>Архангельск</td>\n",
       "      <td>Пироги</td>\n",
       "      <td>0.0</td>\n",
       "      <td>0.0</td>\n",
       "      <td>0.0</td>\n",
       "      <td>27399</td>\n",
       "      <td>0.683915</td>\n",
       "    </tr>\n",
       "    <tr>\n",
       "      <td>2</td>\n",
       "      <td>37382</td>\n",
       "      <td>27399</td>\n",
       "      <td>Архангельск</td>\n",
       "      <td>Пироги</td>\n",
       "      <td>1.0</td>\n",
       "      <td>0.0</td>\n",
       "      <td>0.0</td>\n",
       "      <td>27399</td>\n",
       "      <td>0.683915</td>\n",
       "    </tr>\n",
       "    <tr>\n",
       "      <td>3</td>\n",
       "      <td>28703</td>\n",
       "      <td>20431</td>\n",
       "      <td>Архангельск</td>\n",
       "      <td>Суши</td>\n",
       "      <td>111.0</td>\n",
       "      <td>3.0</td>\n",
       "      <td>0.0</td>\n",
       "      <td>20431</td>\n",
       "      <td>0.191467</td>\n",
       "    </tr>\n",
       "    <tr>\n",
       "      <td>4</td>\n",
       "      <td>36877</td>\n",
       "      <td>27151</td>\n",
       "      <td>Архангельск</td>\n",
       "      <td>Бургеры</td>\n",
       "      <td>22.0</td>\n",
       "      <td>2.0</td>\n",
       "      <td>0.0</td>\n",
       "      <td>27151</td>\n",
       "      <td>0.914714</td>\n",
       "    </tr>\n",
       "    <tr>\n",
       "      <td>...</td>\n",
       "      <td>...</td>\n",
       "      <td>...</td>\n",
       "      <td>...</td>\n",
       "      <td>...</td>\n",
       "      <td>...</td>\n",
       "      <td>...</td>\n",
       "      <td>...</td>\n",
       "      <td>...</td>\n",
       "      <td>...</td>\n",
       "    </tr>\n",
       "    <tr>\n",
       "      <td>773</td>\n",
       "      <td>36105</td>\n",
       "      <td>26635</td>\n",
       "      <td>Ярославль</td>\n",
       "      <td>Суши</td>\n",
       "      <td>122.0</td>\n",
       "      <td>5.0</td>\n",
       "      <td>1.0</td>\n",
       "      <td>26635</td>\n",
       "      <td>0.909173</td>\n",
       "    </tr>\n",
       "    <tr>\n",
       "      <td>774</td>\n",
       "      <td>34523</td>\n",
       "      <td>25434</td>\n",
       "      <td>Ярославль</td>\n",
       "      <td>Фастфуд</td>\n",
       "      <td>66.0</td>\n",
       "      <td>0.0</td>\n",
       "      <td>0.0</td>\n",
       "      <td>25434</td>\n",
       "      <td>0.701914</td>\n",
       "    </tr>\n",
       "    <tr>\n",
       "      <td>775</td>\n",
       "      <td>24614</td>\n",
       "      <td>17145</td>\n",
       "      <td>Ярославль</td>\n",
       "      <td>Суши</td>\n",
       "      <td>116.0</td>\n",
       "      <td>8.0</td>\n",
       "      <td>2.0</td>\n",
       "      <td>17145</td>\n",
       "      <td>0.462239</td>\n",
       "    </tr>\n",
       "    <tr>\n",
       "      <td>776</td>\n",
       "      <td>28675</td>\n",
       "      <td>20418</td>\n",
       "      <td>Ярославль</td>\n",
       "      <td>Пицца</td>\n",
       "      <td>86.0</td>\n",
       "      <td>6.0</td>\n",
       "      <td>2.0</td>\n",
       "      <td>20418</td>\n",
       "      <td>0.020559</td>\n",
       "    </tr>\n",
       "    <tr>\n",
       "      <td>777</td>\n",
       "      <td>28676</td>\n",
       "      <td>20418</td>\n",
       "      <td>Ярославль</td>\n",
       "      <td>Пицца</td>\n",
       "      <td>109.0</td>\n",
       "      <td>10.0</td>\n",
       "      <td>2.0</td>\n",
       "      <td>20418</td>\n",
       "      <td>0.020559</td>\n",
       "    </tr>\n",
       "  </tbody>\n",
       "</table>\n",
       "<p>778 rows × 9 columns</p>\n",
       "</div>"
      ],
      "text/plain": [
       "     vendor_id  chain_id    city_name specialisation  successful_orders  \\\n",
       "0        28957     20633  Архангельск           Супы                0.0   \n",
       "1        37381     27399  Архангельск         Пироги                0.0   \n",
       "2        37382     27399  Архангельск         Пироги                1.0   \n",
       "3        28703     20431  Архангельск           Суши              111.0   \n",
       "4        36877     27151  Архангельск        Бургеры               22.0   \n",
       "..         ...       ...          ...            ...                ...   \n",
       "773      36105     26635    Ярославль           Суши              122.0   \n",
       "774      34523     25434    Ярославль        Фастфуд               66.0   \n",
       "775      24614     17145    Ярославль           Суши              116.0   \n",
       "776      28675     20418    Ярославль          Пицца               86.0   \n",
       "777      28676     20418    Ярославль          Пицца              109.0   \n",
       "\n",
       "     fail_orders  reorders     id  model_score  \n",
       "0            2.0       0.0  20633     0.458147  \n",
       "1            0.0       0.0  27399     0.683915  \n",
       "2            0.0       0.0  27399     0.683915  \n",
       "3            3.0       0.0  20431     0.191467  \n",
       "4            2.0       0.0  27151     0.914714  \n",
       "..           ...       ...    ...          ...  \n",
       "773          5.0       1.0  26635     0.909173  \n",
       "774          0.0       0.0  25434     0.701914  \n",
       "775          8.0       2.0  17145     0.462239  \n",
       "776          6.0       2.0  20418     0.020559  \n",
       "777         10.0       2.0  20418     0.020559  \n",
       "\n",
       "[778 rows x 9 columns]"
      ]
     },
     "execution_count": 54,
     "metadata": {},
     "output_type": "execute_result"
    }
   ],
   "source": [
    "res=pd.merge(df, df1, left_on='chain_id',right_on='id')\n",
    "res"
   ]
  },
  {
   "cell_type": "code",
   "execution_count": 57,
   "metadata": {},
   "outputs": [
    {
     "data": {
      "text/plain": [
       "0.6839149273000661"
      ]
     },
     "execution_count": 57,
     "metadata": {},
     "output_type": "execute_result"
    }
   ],
   "source": [
    "res[res['chain_id']==27399]['model_score'].mean()"
   ]
  },
  {
   "cell_type": "code",
   "execution_count": null,
   "metadata": {},
   "outputs": [],
   "source": []
  }
 ],
 "metadata": {
  "kernelspec": {
   "display_name": "Python 3",
   "language": "python",
   "name": "python3"
  },
  "language_info": {
   "codemirror_mode": {
    "name": "ipython",
    "version": 3
   },
   "file_extension": ".py",
   "mimetype": "text/x-python",
   "name": "python",
   "nbconvert_exporter": "python",
   "pygments_lexer": "ipython3",
   "version": "3.7.4"
  }
 },
 "nbformat": 4,
 "nbformat_minor": 2
}
