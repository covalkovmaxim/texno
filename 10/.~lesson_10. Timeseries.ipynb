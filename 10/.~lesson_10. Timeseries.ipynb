{
  "shell_port": 56797,
  "iopub_port": 49911,
  "stdin_port": 59385,
  "control_port": 59611,
  "hb_port": 41481,
  "ip": "127.0.0.1",
  "key": "da2df1f8-a08a0541a2428c213001f5ef",
  "transport": "tcp",
  "signature_scheme": "hmac-sha256",
  "kernel_name": ""
}